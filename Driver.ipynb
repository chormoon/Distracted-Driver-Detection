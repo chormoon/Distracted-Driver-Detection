{
 "cells": [
  {
   "cell_type": "code",
   "execution_count": 2,
   "id": "ed95dc2a",
   "metadata": {},
   "outputs": [],
   "source": [
    "import matplotlib.pyplot as plt\n",
    "import numpy as np\n",
    "import os\n",
    "import tensorflow as tf\n",
    "\n",
    "from tensorflow.keras.preprocessing import image_dataset_from_directory"
   ]
  },
  {
   "cell_type": "code",
   "execution_count": 3,
   "id": "0e5f9fe4",
   "metadata": {},
   "outputs": [],
   "source": [
    "# 数据集中的训练和验证数据集\n",
    "ROOT_DIR = \"E:\\code\\kaggle\\driver\\imgs\"\n",
    "train_dir = os.path.join(ROOT_DIR, 'train')\n",
    "valid_dir = os.path.join(ROOT_DIR, 'valid')"
   ]
  },
  {
   "cell_type": "code",
   "execution_count": 4,
   "id": "0549c3b0",
   "metadata": {},
   "outputs": [
    {
     "name": "stdout",
     "output_type": "stream",
     "text": [
      "Found 22124 files belonging to 10 classes.\n",
      "Found 22124 files belonging to 10 classes.\n"
     ]
    }
   ],
   "source": [
    "# 设置送入模型的图片的尺寸\n",
    "IMG_SIZE = (160, 160)\n",
    "# 因为我们验证集中每类只有30张图片，所以这里batch size就设置得小些，直接设置成10就好了\n",
    "train_dataset = image_dataset_from_directory(train_dir, shuffle=True, batch_size=32, image_size=IMG_SIZE)\n",
    "valid_dataset = image_dataset_from_directory(train_dir, shuffle=True, batch_size=10, image_size=IMG_SIZE)"
   ]
  },
  {
   "cell_type": "code",
   "execution_count": 5,
   "id": "b603d18c",
   "metadata": {},
   "outputs": [
    {
     "name": "stdout",
     "output_type": "stream",
     "text": [
      "['c0', 'c1', 'c2', 'c3', 'c4', 'c5', 'c6', 'c7', 'c8', 'c9']\n",
      "['c0', 'c1', 'c2', 'c3', 'c4', 'c5', 'c6', 'c7', 'c8', 'c9']\n"
     ]
    }
   ],
   "source": [
    "# 默认文件名即为我们的类别名，这里打印出来看看\n",
    "class_names = train_dataset.class_names\n",
    "num_classes = len(class_names)\n",
    "print(class_names)\n",
    "print(valid_dataset.class_names)"
   ]
  },
  {
   "cell_type": "code",
   "execution_count": null,
   "id": "63805707",
   "metadata": {},
   "outputs": [],
   "source": [
    "# prefetch提供了pipeline的方式读取数据，更高效\n",
    "# 参考： https://tensorflow.google.cn/guide/data_performance\n",
    "AUTOTUNE = tf.data.experimental.AUTOTUNE\n",
    "train_dataset = train_dataset.prefetch(buffer_size=AUTOTUNE)\n",
    "valid_dataset = valid_dataset.prefetch(buffer_size=AUTOTUNE)"
   ]
  }
 ],
 "metadata": {
  "kernelspec": {
   "display_name": "Python 3 (ipykernel)",
   "language": "python",
   "name": "python3"
  },
  "language_info": {
   "codemirror_mode": {
    "name": "ipython",
    "version": 3
   },
   "file_extension": ".py",
   "mimetype": "text/x-python",
   "name": "python",
   "nbconvert_exporter": "python",
   "pygments_lexer": "ipython3",
   "version": "3.8.12"
  }
 },
 "nbformat": 4,
 "nbformat_minor": 5
}
